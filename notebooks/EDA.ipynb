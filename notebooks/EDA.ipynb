{
 "cells": [
  {
   "cell_type": "code",
   "execution_count": 76,
   "id": "52cf3811",
   "metadata": {},
   "outputs": [],
   "source": [
    "import pandas as pd\n",
    "import matplotlib.pyplot as plt"
   ]
  },
  {
   "cell_type": "markdown",
   "id": "000be1da",
   "metadata": {},
   "source": [
    "TITLE: Sprint 4 Application Project...\n",
    "The purpose of this project is to test out my strength on common software engineering tasks. I will be developing and deploying a web application to a cloud service so that it is accessible to the public."
   ]
  },
  {
   "cell_type": "code",
   "execution_count": 77,
   "id": "a594135e",
   "metadata": {},
   "outputs": [],
   "source": [
    "df_cars= pd.read_csv('../vehicles_us.csv')"
   ]
  },
  {
   "cell_type": "code",
   "execution_count": 78,
   "id": "011d185a",
   "metadata": {},
   "outputs": [
    {
     "name": "stdout",
     "output_type": "stream",
     "text": [
      "<class 'pandas.core.frame.DataFrame'>\n",
      "RangeIndex: 51525 entries, 0 to 51524\n",
      "Data columns (total 13 columns):\n",
      " #   Column        Non-Null Count  Dtype  \n",
      "---  ------        --------------  -----  \n",
      " 0   price         51525 non-null  int64  \n",
      " 1   model_year    47906 non-null  float64\n",
      " 2   model         51525 non-null  object \n",
      " 3   condition     51525 non-null  object \n",
      " 4   cylinders     46265 non-null  float64\n",
      " 5   fuel          51525 non-null  object \n",
      " 6   odometer      43633 non-null  float64\n",
      " 7   transmission  51525 non-null  object \n",
      " 8   type          51525 non-null  object \n",
      " 9   paint_color   42258 non-null  object \n",
      " 10  is_4wd        25572 non-null  float64\n",
      " 11  date_posted   51525 non-null  object \n",
      " 12  days_listed   51525 non-null  int64  \n",
      "dtypes: float64(4), int64(2), object(7)\n",
      "memory usage: 5.1+ MB\n"
     ]
    }
   ],
   "source": [
    "df_cars.info()"
   ]
  },
  {
   "cell_type": "code",
   "execution_count": 79,
   "id": "7eb4fd63",
   "metadata": {},
   "outputs": [
    {
     "data": {
      "text/html": [
       "<div>\n",
       "<style scoped>\n",
       "    .dataframe tbody tr th:only-of-type {\n",
       "        vertical-align: middle;\n",
       "    }\n",
       "\n",
       "    .dataframe tbody tr th {\n",
       "        vertical-align: top;\n",
       "    }\n",
       "\n",
       "    .dataframe thead th {\n",
       "        text-align: right;\n",
       "    }\n",
       "</style>\n",
       "<table border=\"1\" class=\"dataframe\">\n",
       "  <thead>\n",
       "    <tr style=\"text-align: right;\">\n",
       "      <th></th>\n",
       "      <th>price</th>\n",
       "      <th>model_year</th>\n",
       "      <th>model</th>\n",
       "      <th>condition</th>\n",
       "      <th>cylinders</th>\n",
       "      <th>fuel</th>\n",
       "      <th>odometer</th>\n",
       "      <th>transmission</th>\n",
       "      <th>type</th>\n",
       "      <th>paint_color</th>\n",
       "      <th>is_4wd</th>\n",
       "      <th>date_posted</th>\n",
       "      <th>days_listed</th>\n",
       "    </tr>\n",
       "  </thead>\n",
       "  <tbody>\n",
       "    <tr>\n",
       "      <th>0</th>\n",
       "      <td>9400</td>\n",
       "      <td>2011.0</td>\n",
       "      <td>bmw x5</td>\n",
       "      <td>good</td>\n",
       "      <td>6.0</td>\n",
       "      <td>gas</td>\n",
       "      <td>145000.0</td>\n",
       "      <td>automatic</td>\n",
       "      <td>SUV</td>\n",
       "      <td>NaN</td>\n",
       "      <td>1.0</td>\n",
       "      <td>2018-06-23</td>\n",
       "      <td>19</td>\n",
       "    </tr>\n",
       "    <tr>\n",
       "      <th>1</th>\n",
       "      <td>25500</td>\n",
       "      <td>NaN</td>\n",
       "      <td>ford f-150</td>\n",
       "      <td>good</td>\n",
       "      <td>6.0</td>\n",
       "      <td>gas</td>\n",
       "      <td>88705.0</td>\n",
       "      <td>automatic</td>\n",
       "      <td>pickup</td>\n",
       "      <td>white</td>\n",
       "      <td>1.0</td>\n",
       "      <td>2018-10-19</td>\n",
       "      <td>50</td>\n",
       "    </tr>\n",
       "    <tr>\n",
       "      <th>2</th>\n",
       "      <td>5500</td>\n",
       "      <td>2013.0</td>\n",
       "      <td>hyundai sonata</td>\n",
       "      <td>like new</td>\n",
       "      <td>4.0</td>\n",
       "      <td>gas</td>\n",
       "      <td>110000.0</td>\n",
       "      <td>automatic</td>\n",
       "      <td>sedan</td>\n",
       "      <td>red</td>\n",
       "      <td>NaN</td>\n",
       "      <td>2019-02-07</td>\n",
       "      <td>79</td>\n",
       "    </tr>\n",
       "    <tr>\n",
       "      <th>3</th>\n",
       "      <td>1500</td>\n",
       "      <td>2003.0</td>\n",
       "      <td>ford f-150</td>\n",
       "      <td>fair</td>\n",
       "      <td>8.0</td>\n",
       "      <td>gas</td>\n",
       "      <td>NaN</td>\n",
       "      <td>automatic</td>\n",
       "      <td>pickup</td>\n",
       "      <td>NaN</td>\n",
       "      <td>NaN</td>\n",
       "      <td>2019-03-22</td>\n",
       "      <td>9</td>\n",
       "    </tr>\n",
       "    <tr>\n",
       "      <th>4</th>\n",
       "      <td>14900</td>\n",
       "      <td>2017.0</td>\n",
       "      <td>chrysler 200</td>\n",
       "      <td>excellent</td>\n",
       "      <td>4.0</td>\n",
       "      <td>gas</td>\n",
       "      <td>80903.0</td>\n",
       "      <td>automatic</td>\n",
       "      <td>sedan</td>\n",
       "      <td>black</td>\n",
       "      <td>NaN</td>\n",
       "      <td>2019-04-02</td>\n",
       "      <td>28</td>\n",
       "    </tr>\n",
       "  </tbody>\n",
       "</table>\n",
       "</div>"
      ],
      "text/plain": [
       "   price  model_year           model  condition  cylinders fuel  odometer  \\\n",
       "0   9400      2011.0          bmw x5       good        6.0  gas  145000.0   \n",
       "1  25500         NaN      ford f-150       good        6.0  gas   88705.0   \n",
       "2   5500      2013.0  hyundai sonata   like new        4.0  gas  110000.0   \n",
       "3   1500      2003.0      ford f-150       fair        8.0  gas       NaN   \n",
       "4  14900      2017.0    chrysler 200  excellent        4.0  gas   80903.0   \n",
       "\n",
       "  transmission    type paint_color  is_4wd date_posted  days_listed  \n",
       "0    automatic     SUV         NaN     1.0  2018-06-23           19  \n",
       "1    automatic  pickup       white     1.0  2018-10-19           50  \n",
       "2    automatic   sedan         red     NaN  2019-02-07           79  \n",
       "3    automatic  pickup         NaN     NaN  2019-03-22            9  \n",
       "4    automatic   sedan       black     NaN  2019-04-02           28  "
      ]
     },
     "execution_count": 79,
     "metadata": {},
     "output_type": "execute_result"
    }
   ],
   "source": [
    "df_cars.head()"
   ]
  },
  {
   "cell_type": "code",
   "execution_count": 80,
   "id": "cf90eada",
   "metadata": {},
   "outputs": [
    {
     "data": {
      "text/html": [
       "<div>\n",
       "<style scoped>\n",
       "    .dataframe tbody tr th:only-of-type {\n",
       "        vertical-align: middle;\n",
       "    }\n",
       "\n",
       "    .dataframe tbody tr th {\n",
       "        vertical-align: top;\n",
       "    }\n",
       "\n",
       "    .dataframe thead th {\n",
       "        text-align: right;\n",
       "    }\n",
       "</style>\n",
       "<table border=\"1\" class=\"dataframe\">\n",
       "  <thead>\n",
       "    <tr style=\"text-align: right;\">\n",
       "      <th></th>\n",
       "      <th>price</th>\n",
       "      <th>model_year</th>\n",
       "      <th>model</th>\n",
       "      <th>condition</th>\n",
       "      <th>cylinders</th>\n",
       "      <th>fuel</th>\n",
       "      <th>odometer</th>\n",
       "      <th>transmission</th>\n",
       "      <th>type</th>\n",
       "      <th>paint_color</th>\n",
       "      <th>is_4wd</th>\n",
       "      <th>date_posted</th>\n",
       "      <th>days_listed</th>\n",
       "    </tr>\n",
       "  </thead>\n",
       "  <tbody>\n",
       "    <tr>\n",
       "      <th>47412</th>\n",
       "      <td>4999</td>\n",
       "      <td>2005.0</td>\n",
       "      <td>subaru outback</td>\n",
       "      <td>excellent</td>\n",
       "      <td>6.0</td>\n",
       "      <td>gas</td>\n",
       "      <td>187100.0</td>\n",
       "      <td>automatic</td>\n",
       "      <td>SUV</td>\n",
       "      <td>silver</td>\n",
       "      <td>1.0</td>\n",
       "      <td>2018-09-15</td>\n",
       "      <td>9</td>\n",
       "    </tr>\n",
       "    <tr>\n",
       "      <th>48184</th>\n",
       "      <td>21900</td>\n",
       "      <td>2015.0</td>\n",
       "      <td>ford explorer</td>\n",
       "      <td>good</td>\n",
       "      <td>6.0</td>\n",
       "      <td>gas</td>\n",
       "      <td>34009.0</td>\n",
       "      <td>automatic</td>\n",
       "      <td>SUV</td>\n",
       "      <td>red</td>\n",
       "      <td>NaN</td>\n",
       "      <td>2018-08-05</td>\n",
       "      <td>45</td>\n",
       "    </tr>\n",
       "    <tr>\n",
       "      <th>48322</th>\n",
       "      <td>3200</td>\n",
       "      <td>2005.0</td>\n",
       "      <td>honda accord</td>\n",
       "      <td>good</td>\n",
       "      <td>6.0</td>\n",
       "      <td>gas</td>\n",
       "      <td>326094.0</td>\n",
       "      <td>automatic</td>\n",
       "      <td>coupe</td>\n",
       "      <td>white</td>\n",
       "      <td>NaN</td>\n",
       "      <td>2018-05-21</td>\n",
       "      <td>48</td>\n",
       "    </tr>\n",
       "    <tr>\n",
       "      <th>50050</th>\n",
       "      <td>299</td>\n",
       "      <td>2004.0</td>\n",
       "      <td>toyota camry</td>\n",
       "      <td>excellent</td>\n",
       "      <td>4.0</td>\n",
       "      <td>gas</td>\n",
       "      <td>185698.0</td>\n",
       "      <td>automatic</td>\n",
       "      <td>sedan</td>\n",
       "      <td>silver</td>\n",
       "      <td>NaN</td>\n",
       "      <td>2019-02-16</td>\n",
       "      <td>103</td>\n",
       "    </tr>\n",
       "    <tr>\n",
       "      <th>15109</th>\n",
       "      <td>12999</td>\n",
       "      <td>2018.0</td>\n",
       "      <td>hyundai elantra</td>\n",
       "      <td>excellent</td>\n",
       "      <td>4.0</td>\n",
       "      <td>gas</td>\n",
       "      <td>24995.0</td>\n",
       "      <td>automatic</td>\n",
       "      <td>other</td>\n",
       "      <td>NaN</td>\n",
       "      <td>NaN</td>\n",
       "      <td>2018-07-10</td>\n",
       "      <td>26</td>\n",
       "    </tr>\n",
       "  </tbody>\n",
       "</table>\n",
       "</div>"
      ],
      "text/plain": [
       "       price  model_year            model  condition  cylinders fuel  \\\n",
       "47412   4999      2005.0   subaru outback  excellent        6.0  gas   \n",
       "48184  21900      2015.0    ford explorer       good        6.0  gas   \n",
       "48322   3200      2005.0     honda accord       good        6.0  gas   \n",
       "50050    299      2004.0     toyota camry  excellent        4.0  gas   \n",
       "15109  12999      2018.0  hyundai elantra  excellent        4.0  gas   \n",
       "\n",
       "       odometer transmission   type paint_color  is_4wd date_posted  \\\n",
       "47412  187100.0    automatic    SUV      silver     1.0  2018-09-15   \n",
       "48184   34009.0    automatic    SUV         red     NaN  2018-08-05   \n",
       "48322  326094.0    automatic  coupe       white     NaN  2018-05-21   \n",
       "50050  185698.0    automatic  sedan      silver     NaN  2019-02-16   \n",
       "15109   24995.0    automatic  other         NaN     NaN  2018-07-10   \n",
       "\n",
       "       days_listed  \n",
       "47412            9  \n",
       "48184           45  \n",
       "48322           48  \n",
       "50050          103  \n",
       "15109           26  "
      ]
     },
     "execution_count": 80,
     "metadata": {},
     "output_type": "execute_result"
    }
   ],
   "source": [
    "df_cars.sample(5)"
   ]
  },
  {
   "cell_type": "code",
   "execution_count": 81,
   "id": "0494f219",
   "metadata": {},
   "outputs": [
    {
     "data": {
      "text/plain": [
       "np.int64(0)"
      ]
     },
     "execution_count": 81,
     "metadata": {},
     "output_type": "execute_result"
    }
   ],
   "source": [
    "check_dup = df_cars.duplicated().sum()\n",
    "check_dup\n"
   ]
  },
  {
   "cell_type": "markdown",
   "id": "7ee28d47",
   "metadata": {},
   "source": [
    "checking for duplicates, found none"
   ]
  },
  {
   "cell_type": "code",
   "execution_count": 82,
   "id": "733f5e04",
   "metadata": {},
   "outputs": [
    {
     "data": {
      "text/plain": [
       "0        1.0\n",
       "1        1.0\n",
       "2        0.0\n",
       "3        0.0\n",
       "4        0.0\n",
       "        ... \n",
       "51520    0.0\n",
       "51521    0.0\n",
       "51522    0.0\n",
       "51523    0.0\n",
       "51524    0.0\n",
       "Name: is_4wd, Length: 51525, dtype: float64"
      ]
     },
     "execution_count": 82,
     "metadata": {},
     "output_type": "execute_result"
    }
   ],
   "source": [
    "df_cars['is_4wd'] = df_cars['is_4wd'].fillna(0)\n",
    "df_cars['is_4wd']"
   ]
  },
  {
   "cell_type": "markdown",
   "id": "703926c9",
   "metadata": {},
   "source": [
    "filled missing values is df cars \"is_4wd\" with a 0"
   ]
  },
  {
   "cell_type": "code",
   "execution_count": 83,
   "id": "036014ec",
   "metadata": {},
   "outputs": [
    {
     "data": {
      "text/plain": [
       "0        Unknown\n",
       "1          white\n",
       "2            red\n",
       "3        Unknown\n",
       "4          black\n",
       "          ...   \n",
       "51520      black\n",
       "51521      white\n",
       "51522       blue\n",
       "51523      black\n",
       "51524    Unknown\n",
       "Name: paint_color, Length: 51525, dtype: object"
      ]
     },
     "execution_count": 83,
     "metadata": {},
     "output_type": "execute_result"
    }
   ],
   "source": [
    "df_cars['paint_color'] = df_cars['paint_color'].fillna('Unknown')\n",
    "df_cars['paint_color']"
   ]
  },
  {
   "cell_type": "markdown",
   "id": "6ded558c",
   "metadata": {},
   "source": [
    "filled paint color columns missing value with \"unknown\""
   ]
  },
  {
   "cell_type": "code",
   "execution_count": 84,
   "id": "8cdea8a6",
   "metadata": {},
   "outputs": [
    {
     "data": {
      "text/plain": [
       "np.int64(0)"
      ]
     },
     "execution_count": 84,
     "metadata": {},
     "output_type": "execute_result"
    }
   ],
   "source": [
    "# df_cars['model_year'].isna().sum()\n",
    "df_cars['model_year'] = df_cars['model_year'].fillna(df_cars.groupby(['model'])['model_year'].transform('median'))\n",
    "#df_cars['model_year']\n",
    "df_cars['model_year'].isna().sum()"
   ]
  },
  {
   "cell_type": "markdown",
   "id": "3fb0fe61",
   "metadata": {},
   "source": [
    "used group by method to fill in missing values for model year by using the median"
   ]
  },
  {
   "cell_type": "code",
   "execution_count": 85,
   "id": "c4f45034",
   "metadata": {},
   "outputs": [
    {
     "data": {
      "text/plain": [
       "45694    1929.0\n",
       "Name: model_year, dtype: float64"
      ]
     },
     "execution_count": 85,
     "metadata": {},
     "output_type": "execute_result"
    }
   ],
   "source": [
    "df_cars['odometer'] = df_cars['odometer'].fillna(df_cars.groupby(['model_year'])['odometer'].transform('mean'))\n",
    "df_cars['odometer']\n",
    "df_cars[df_cars['odometer'].isna()]['model_year']"
   ]
  },
  {
   "cell_type": "markdown",
   "id": "ec4188df",
   "metadata": {},
   "source": [
    "used group by method to fill in missing values for odometer by using the mean"
   ]
  },
  {
   "cell_type": "code",
   "execution_count": 86,
   "id": "4581151d",
   "metadata": {},
   "outputs": [
    {
     "data": {
      "text/plain": [
       "np.int64(0)"
      ]
     },
     "execution_count": 86,
     "metadata": {},
     "output_type": "execute_result"
    }
   ],
   "source": [
    "\n",
    "df_cars['cylinders'] = df_cars['cylinders'].fillna(df_cars.groupby(['model_year','model'])['odometer'].transform('mean'))\n",
    "df_cars['cylinders'].isna().sum()"
   ]
  },
  {
   "cell_type": "markdown",
   "id": "e4f15737",
   "metadata": {},
   "source": [
    "used group by method to fill in missing values for cylinders by using the mean"
   ]
  },
  {
   "cell_type": "code",
   "execution_count": 87,
   "id": "c5e040aa",
   "metadata": {},
   "outputs": [
    {
     "data": {
      "text/plain": [
       "<Axes: title={'center': 'Price range of cars'}, ylabel='Frequency'>"
      ]
     },
     "execution_count": 87,
     "metadata": {},
     "output_type": "execute_result"
    },
    {
     "data": {
      "image/png": "[encoded data removed]",
      "text/plain": [
       "<Figure size 640x480 with 1 Axes>"
      ]
     },
     "metadata": {},
     "output_type": "display_data"
    }
   ],
   "source": [
    "import numpy as np\n",
    "np.log10(df_cars['price']).plot(kind='hist',bins=40, log = True, title='Price range of cars')"
   ]
  },
  {
   "cell_type": "markdown",
   "id": "8f7f4d24",
   "metadata": {},
   "source": [
    "This shows the how many cars are being sold at certain price. The histogram has logorithmic."
   ]
  },
  {
   "cell_type": "code",
   "execution_count": 88,
   "id": "faf57312",
   "metadata": {},
   "outputs": [
    {
     "data": {
      "text/plain": [
       "<Axes: title={'center': 'Year the car was manufactured quantity'}, ylabel='Frequency'>"
      ]
     },
     "execution_count": 88,
     "metadata": {},
     "output_type": "execute_result"
    },
    {
     "data": {
      "image/png": "[encoded data removed]",
      "text/plain": [
       "<Figure size 640x480 with 1 Axes>"
      ]
     },
     "metadata": {},
     "output_type": "display_data"
    }
   ],
   "source": [
    "df_cars['model_year'].plot(kind='hist',bins=30, log = True, title='Year the car was manufactured quantity')"
   ]
  },
  {
   "cell_type": "markdown",
   "id": "85be0c77",
   "metadata": {},
   "source": [
    "THis graph shows how many cars they have based on the year it was manufactured"
   ]
  },
  {
   "cell_type": "code",
   "execution_count": 89,
   "id": "18ac87e0",
   "metadata": {},
   "outputs": [
    {
     "data": {
      "image/png": "[encoded data removed]",
      "text/plain": [
       "<Figure size 640x480 with 1 Axes>"
      ]
     },
     "metadata": {},
     "output_type": "display_data"
    }
   ],
   "source": [
    "df_cars.plot(kind='scatter',x ='odometer', y= 'price')\n",
    "plt.xscale('log')\n",
    "plt.yscale('log')\n"
   ]
  },
  {
   "cell_type": "markdown",
   "id": "9d19ed9d",
   "metadata": {},
   "source": [
    "This graph shows the relationship between price and odometer. THE higher the price the lower the odometer."
   ]
  },
  {
   "cell_type": "markdown",
   "id": "ad808383",
   "metadata": {},
   "source": [
    "Summary: We analyzed the dataframe and plugged in missing values using fillna and groupby. Then we plotted a few histograms and scatterplots to show relationships between some columns."
   ]
  }
 ],
 "metadata": {
  "kernelspec": {
   "display_name": "py312",
   "language": "python",
   "name": "python3"
  },
  "language_info": {
   "codemirror_mode": {
    "name": "ipython",
    "version": 3
   },
   "file_extension": ".py",
   "mimetype": "text/x-python",
   "name": "python",
   "nbconvert_exporter": "python",
   "pygments_lexer": "ipython3",
   "version": "3.12.9"
  }
 },
 "nbformat": 4,
 "nbformat_minor": 5
}
